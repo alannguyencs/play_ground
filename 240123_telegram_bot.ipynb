{
 "cells": [
  {
   "cell_type": "code",
   "execution_count": null,
   "metadata": {},
   "outputs": [],
   "source": [
    "import secret\n",
    "import requests\n",
    "import datetime\n",
    "import time\n",
    "\n",
    "import telebot\n",
    "from deep_translator import GoogleTranslator\n",
    "\n",
    "\n",
    "TRANSLATION_ERROR = \"Translation error. Please try again later.\"\n",
    "translator = GoogleTranslator(source='en', target='vi')\n",
    "def translate(text):\n",
    "    num_try = 10\n",
    "    while num_try > 0:\n",
    "        try:\n",
    "            return translator.translate(text)\n",
    "        except:\n",
    "            num_try -= 1\n",
    "            time.sleep(1)\n",
    "            pass\n",
    "    # return translator.translate(text)\n",
    "    return TRANSLATION_ERROR\n",
    "\n",
    "bot = telebot.TeleBot(secret.apiToken)  # replace \"api\" with your bot's API token\n",
    "\n",
    "@bot.message_handler(content_types=['text'])\n",
    "def welcome(message):\n",
    "    sent_msg = bot.send_message(message.chat.id, \"Welcome to the bot. What's your name?\")\n",
    "    bot.register_next_step_handler(sent_msg, translate_handler)  # Next message will call the name_handler function\n",
    "\n",
    "def name_handler(message):\n",
    "    name = message.text\n",
    "    sent_msg = bot.send_message(message.chat.id, f\"Your name is {name}. How old are you?\")\n",
    "    bot.register_next_step_handler(sent_msg, age_handler, name)  # Next message will call the age_handler function\n",
    "\n",
    "def age_handler(message, name):\n",
    "    age = message.text\n",
    "    bot.send_message(message.chat.id, f\"Your name is {name}, and your age is {age}.\")\n",
    "\n",
    "def translate_handler(message):\n",
    "    user_text = message.text\n",
    "    try:\n",
    "        sent_msg = bot.send_message(message.chat.id, translate(user_text))\n",
    "    except:\n",
    "        sent_msg = bot.send_message(message.chat.id, TRANSLATION_ERROR)\n",
    "        pass\n",
    "    bot.register_next_step_handler(sent_msg, translate_handler)\n",
    "\n",
    "bot.polling()"
   ]
  }
 ],
 "metadata": {
  "language_info": {
   "name": "python"
  }
 },
 "nbformat": 4,
 "nbformat_minor": 2
}
